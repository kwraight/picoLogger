{
 "cells": [
  {
   "cell_type": "markdown",
   "metadata": {},
   "source": [
    "## Imports"
   ]
  },
  {
   "cell_type": "code",
   "execution_count": 4,
   "metadata": {},
   "outputs": [],
   "source": [
    "\n",
    "from datetime import datetime"
   ]
  },
  {
   "cell_type": "markdown",
   "metadata": {},
   "source": [
    "## Converting time string"
   ]
  },
  {
   "cell_type": "code",
   "execution_count": 5,
   "metadata": {},
   "outputs": [],
   "source": [
    "### convert input timestamp using pattern to standard output format\n",
    "### default to now if input string \"now\"\n",
    "def TimeStampConverter(inStr,inPat):\n",
    "    timeObj=None\n",
    "    # empty input shortcut for getting _now_ info.\n",
    "    if inStr==\"now\":\n",
    "        timeObj=datetime.now()\n",
    "    # use input\n",
    "    else:\n",
    "        timeObj=datetime.strptime(inStr, inPat)\n",
    "    # return standard formatted timestamp\n",
    "    return timeObj.strftime(\"%Y-%m-%dT%H:%MZ\")"
   ]
  },
  {
   "cell_type": "code",
   "execution_count": 6,
   "metadata": {},
   "outputs": [
    {
     "name": "stdout",
     "output_type": "stream",
     "text": [
      "input time: 08-08-2023\n",
      "output time: 2023-08-08T00:00Z\n"
     ]
    }
   ],
   "source": [
    "myDateTime=\"08-08-2023\"\n",
    "print(\"input time:\",myDateTime)\n",
    "\n",
    "print(\"output time:\",TimeStampConverter(myDateTime,\"%d-%m-%Y\"))"
   ]
  },
  {
   "cell_type": "code",
   "execution_count": null,
   "metadata": {},
   "outputs": [],
   "source": []
  }
 ],
 "metadata": {
  "kernelspec": {
   "display_name": "Python 3 (ipykernel)",
   "language": "python",
   "name": "python3"
  },
  "language_info": {
   "codemirror_mode": {
    "name": "ipython",
    "version": 3
   },
   "file_extension": ".py",
   "mimetype": "text/x-python",
   "name": "python",
   "nbconvert_exporter": "python",
   "pygments_lexer": "ipython3",
   "version": "3.9.13"
  }
 },
 "nbformat": 4,
 "nbformat_minor": 2
}
