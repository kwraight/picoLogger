{
 "cells": [
  {
   "cell_type": "markdown",
   "metadata": {},
   "source": [
    "## Database Backend - Influx"
   ]
  },
  {
   "cell_type": "markdown",
   "metadata": {},
   "source": [
    "### Imports"
   ]
  },
  {
   "cell_type": "code",
   "execution_count": null,
   "metadata": {},
   "outputs": [],
   "source": [
    "# -*- coding: utf-8 -*-\n",
    "### from https://influxdb-python.readthedocs.io/en/latest/examples.html\n",
    "from influxdb import InfluxDBClient\n",
    "import os\n",
    "import sys"
   ]
  },
  {
   "cell_type": "markdown",
   "metadata": {},
   "source": [
    "## Get Client"
   ]
  },
  {
   "cell_type": "code",
   "execution_count": null,
   "metadata": {},
   "outputs": [],
   "source": [
    "\n",
    "def main(host='86.175.237.116', port=8086):\n",
    "    \"\"\"Instantiate a connection to the InfluxDB.\"\"\"\n",
    "    user = 'admin'\n",
    "    password = 'admin'\n",
    "    dbname = 'metrics'\n",
    "    # dbuser = 'smly'\n",
    "    # dbuser_password = 'my_secret_password'\n",
    "    # SELECT mean(\"load1\") FROM \"default\".\"system\" WHERE $timeFilter GROUP BY time($__interval) fill(null)\n",
    "    query = 'select mean(\"load1\") from \"system\";'\n",
    "    query_where = 'select Int_value from cpu_load_short where host=$host;'\n",
    "    bind_params = {'host': 'server01'}\n",
    "    json_body = [\n",
    "            {\n",
    "                'measurement': 'data',\n",
    "                'tags': {\n",
    "                    'device': topic,\n",
    "                    #\"domain\": \"sensor\"\n",
    "                    },\n",
    "                'fields': my_dict\n",
    "            }\n",
    "        ]\n",
    "    \n",
    "    client = InfluxDBClient(host, port, user, password, dbname)\n",
    "    print(\"DBs:\", client.get_list_database())\n",
    "\n",
    "    # print(\"Create database: \" + dbname)\n",
    "    # client.create_database(dbname)\n",
    "\n",
    "    # print(\"Create a retention policy\")\n",
    "    # client.create_retention_policy('awesome_policy', '3d', 3, default=True)\n",
    "\n",
    "    # print(\"Switch user: \" + dbuser)\n",
    "    # client.switch_user(dbuser, dbuser_password)\n",
    "\n",
    "    # print(\"Write points: {0}\".format(json_body))\n",
    "    # client.write_points(json_body)\n",
    "\n",
    "    print(\"Querying data: \" + query)\n",
    "    result = client.query(query)\n",
    "\n",
    "    print(\"Result: {0}\".format(result))\n",
    "\n",
    "    # print(\"Querying data: \" + query_where)\n",
    "    # result = client.query(query_where, bind_params=bind_params)\n",
    "\n",
    "    # print(\"Result: {0}\".format(result))\n",
    "\n",
    "    # print(\"Switch user: \" + user)\n",
    "    # client.switch_user(user, password)\n",
    "\n",
    "    # print(\"Drop database: \" + dbname)\n",
    "    # client.drop_database(dbname)\n",
    "\n",
    "\n",
    "def parse_args():\n",
    "    \"\"\"Parse the args.\"\"\"\n",
    "    parser = argparse.ArgumentParser(\n",
    "        description='example code to play with InfluxDB')\n",
    "    parser.add_argument('--host', type=str, required=False,\n",
    "                        default='localhost',\n",
    "                        help='hostname of InfluxDB http API')\n",
    "    parser.add_argument('--port', type=int, required=False, default=8086,\n",
    "                        help='port of InfluxDB http API')\n",
    "    return parser.parse_args()\n",
    "\n",
    "\n",
    "if __name__ == '__main__':\n",
    "    args = parse_args()\n",
    "    main(host=args.host, port=args.port)\n"
   ]
  },
  {
   "cell_type": "markdown",
   "metadata": {},
   "source": [
    "### Check packages"
   ]
  },
  {
   "cell_type": "code",
   "execution_count": null,
   "metadata": {},
   "outputs": [],
   "source": [
    "# List installed package versions\n",
    "packList = [\"pandas\", \"altair\", \"numpy\", \"influxdb_client\"]\n",
    "for p in packList:\n",
    "    try:\n",
    "        mod = __import__(p)\n",
    "        print(mod.__name__ + \" : \" + mod.__version__)\n",
    "    except ImportError:\n",
    "        print(p + \" not installed\")\n",
    "\n",
    "# Get the current working directory\n",
    "thisDir = os.getcwd()\n",
    "\n",
    "# List files in the parent directory\n",
    "parentDir = os.path.abspath(os.path.join(thisDir, os.pardir))\n",
    "files_in_parent = os.listdir(parentDir)\n",
    "print(\"Files in parent directory:\", files_in_parent)"
   ]
  },
  {
   "cell_type": "markdown",
   "metadata": {},
   "source": [
    "## Read in credentials\n",
    "\n",
    "Sets a dictionay with:\n",
    "- 'usr': \"USER_NAME\",\n",
    "- 'pwd': \"USER_PASSWORD\",\n",
    "- 'host': \"HOST\",\n",
    "- 'port': PORT\n"
   ]
  },
  {
   "cell_type": "code",
   "execution_count": null,
   "metadata": {},
   "outputs": [],
   "source": [
    "### set up Kenny's credentials (ignore if user!=Kenny)\n",
    "credDir=os.getcwd()\n",
    "if os.path.isdir(credDir):\n",
    "    print(\"directory found:\",credDir)\n",
    "    sys.path.insert(1, credDir)\n",
    "    import connectionDetails\n",
    "    credDict=connectionDetails.GetInflux1Credentials()\n",
    "    print(credDict)\n",
    "    print(\"done.\")\n",
    "else:\n",
    "    print(\"no directory found:\",credDir)"
   ]
  },
  {
   "cell_type": "markdown",
   "metadata": {},
   "source": [
    "## Query Influx"
   ]
  },
  {
   "cell_type": "markdown",
   "metadata": {},
   "source": [
    "### get API client"
   ]
  },
  {
   "cell_type": "code",
   "execution_count": null,
   "metadata": {},
   "outputs": [],
   "source": [
    "### set client to get access to influx\n",
    "client = InfluxDBClient(credDict['host'], credDict['port'], credDict['user'], credDict['password']) #, dbname)\n"
   ]
  },
  {
   "cell_type": "markdown",
   "metadata": {},
   "source": [
    "### check existing databases"
   ]
  },
  {
   "cell_type": "code",
   "execution_count": null,
   "metadata": {},
   "outputs": [],
   "source": [
    "### set bucket api\n",
    "print(\"DBs:\", client.get_list_database())"
   ]
  },
  {
   "cell_type": "markdown",
   "metadata": {},
   "source": [
    "### Query data\n",
    "\n",
    "Example query from influxdb GUI (replace all-caps):\n",
    "<code>\n",
    "from(bucket: BUCKET_NAME)\n",
    "  |> range(start: v.timeRangeStart, stop: v.timeRangeStop)\n",
    "  |> filter(fn: (r) => r[\"_measurement\"] == DATA_NAME)\n",
    "  |> aggregateWindow(every: 1m, fn: mean, createEmpty: false)\n",
    "  |> yield(name: \"mean\")\n",
    "</code>"
   ]
  },
  {
   "cell_type": "code",
   "execution_count": null,
   "metadata": {},
   "outputs": [],
   "source": [
    "### reset client with chosen database\n",
    "dbName=\"metrics\"\n",
    "client = InfluxDBClient(credDict['host'], credDict['port'], credDict['user'], credDict['password'], dbName)\n"
   ]
  },
  {
   "cell_type": "code",
   "execution_count": null,
   "metadata": {},
   "outputs": [],
   "source": [
    "### set query str\n",
    "query = 'select mean(\"load1\") from \"system\";'\n",
    "\n",
    "print(\"Querying data: \" + query)\n",
    "result = client.query(query)\n",
    "\n",
    "print(\"Result: {0}\".format(result))"
   ]
  },
  {
   "cell_type": "markdown",
   "metadata": {},
   "source": [
    "### Write data"
   ]
  },
  {
   "cell_type": "code",
   "execution_count": null,
   "metadata": {},
   "outputs": [],
   "source": [
    "json_body = [\n",
    "        {\n",
    "            'measurement': 'test',\n",
    "            'tags': {\n",
    "                'origin': \"notebook\"\n",
    "                },\n",
    "            'fields': None\n",
    "        }\n",
    "    ]\n",
    "print(\"Write points: {0}\".format(json_body))\n",
    "client.write_points(json_body)"
   ]
  },
  {
   "cell_type": "code",
   "execution_count": null,
   "metadata": {},
   "outputs": [],
   "source": []
  }
 ],
 "metadata": {
  "kernelspec": {
   "display_name": "Python 3 (ipykernel)",
   "language": "python",
   "name": "python3"
  },
  "language_info": {
   "codemirror_mode": {
    "name": "ipython",
    "version": 3
   },
   "file_extension": ".py",
   "mimetype": "text/x-python",
   "name": "python",
   "nbconvert_exporter": "python",
   "pygments_lexer": "ipython3",
   "version": "3.10.13"
  }
 },
 "nbformat": 4,
 "nbformat_minor": 2
}
