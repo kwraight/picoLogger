{
 "cells": [
  {
   "cell_type": "markdown",
   "metadata": {},
   "source": [
    "## Database Backend - Influx (v1)"
   ]
  },
  {
   "cell_type": "markdown",
   "metadata": {},
   "source": [
    "### Imports"
   ]
  },
  {
   "cell_type": "code",
   "execution_count": null,
   "metadata": {},
   "outputs": [],
   "source": [
    "# -*- coding: utf-8 -*-\n",
    "### from https://influxdb-python.readthedocs.io/en/latest/examples.html\n",
    "from influxdb import InfluxDBClient\n",
    "import os\n",
    "import sys"
   ]
  },
  {
   "cell_type": "markdown",
   "metadata": {},
   "source": [
    "### Check packages"
   ]
  },
  {
   "cell_type": "code",
   "execution_count": null,
   "metadata": {},
   "outputs": [],
   "source": [
    "# List installed package versions\n",
    "packList = [\"pandas\", \"altair\", \"numpy\", \"influxdb_client\"]\n",
    "for p in packList:\n",
    "    try:\n",
    "        mod = __import__(p)\n",
    "        print(mod.__name__ + \" : \" + mod.__version__)\n",
    "    except ImportError:\n",
    "        print(p + \" not installed\")\n",
    "\n",
    "# Get the current working directory\n",
    "thisDir = os.getcwd()\n",
    "\n",
    "# List files in the parent directory\n",
    "parentDir = os.path.abspath(os.path.join(thisDir, os.pardir))\n",
    "files_in_parent = os.listdir(parentDir)\n",
    "print(\"Files in parent directory:\", files_in_parent)"
   ]
  },
  {
   "cell_type": "markdown",
   "metadata": {},
   "source": [
    "## Read in credentials\n",
    "\n",
    "Sets a dictionay with:\n",
    "- 'usr': \"USER_NAME\",\n",
    "- 'pwd': \"USER_PASSWORD\",\n",
    "- 'host': \"HOST\",\n",
    "- 'port': PORT\n"
   ]
  },
  {
   "cell_type": "code",
   "execution_count": null,
   "metadata": {},
   "outputs": [],
   "source": [
    "### set up Kenny's credentials (ignore if user!=Kenny)\n",
    "credDir=os.getcwd()\n",
    "if os.path.isdir(credDir):\n",
    "    print(\"directory found:\",credDir)\n",
    "    sys.path.insert(1, credDir)\n",
    "    import connectionDetails\n",
    "    credDict=connectionDetails.GetInflux1Credentials()\n",
    "    print(credDict)\n",
    "    print(\"done.\")\n",
    "else:\n",
    "    print(\"no directory found:\",credDir)"
   ]
  },
  {
   "cell_type": "markdown",
   "metadata": {},
   "source": [
    "## Query Influx"
   ]
  },
  {
   "cell_type": "markdown",
   "metadata": {},
   "source": [
    "### get API client"
   ]
  },
  {
   "cell_type": "code",
   "execution_count": null,
   "metadata": {},
   "outputs": [],
   "source": [
    "### set client to get access to influx\n",
    "client = InfluxDBClient(credDict['host'], credDict['port'], credDict['user'], credDict['password']) #, dbname)\n"
   ]
  },
  {
   "cell_type": "markdown",
   "metadata": {},
   "source": [
    "### check existing databases"
   ]
  },
  {
   "cell_type": "code",
   "execution_count": null,
   "metadata": {},
   "outputs": [],
   "source": [
    "### set bucket api\n",
    "print(\"DBs:\", client.get_list_database())"
   ]
  },
  {
   "cell_type": "markdown",
   "metadata": {},
   "source": [
    "### Query data\n",
    "\n",
    "Example query from influxdb GUI (replace all-caps):\n",
    "<code>\n",
    "from(bucket: BUCKET_NAME)\n",
    "  |> range(start: v.timeRangeStart, stop: v.timeRangeStop)\n",
    "  |> filter(fn: (r) => r[\"_measurement\"] == DATA_NAME)\n",
    "  |> aggregateWindow(every: 1m, fn: mean, createEmpty: false)\n",
    "  |> yield(name: \"mean\")\n",
    "</code>"
   ]
  },
  {
   "cell_type": "code",
   "execution_count": null,
   "metadata": {},
   "outputs": [],
   "source": [
    "### reset client with chosen database\n",
    "dbName=\"metrics\"\n",
    "client = InfluxDBClient(credDict['host'], credDict['port'], credDict['user'], credDict['password'], dbName)\n"
   ]
  },
  {
   "cell_type": "code",
   "execution_count": null,
   "metadata": {},
   "outputs": [],
   "source": [
    "### set query str\n",
    "query = 'select mean(\"load1\") from \"system\";'\n",
    "\n",
    "print(\"Querying data: \" + query)\n",
    "result = client.query(query)\n",
    "\n",
    "print(\"Result: {0}\".format(result))"
   ]
  },
  {
   "cell_type": "markdown",
   "metadata": {},
   "source": [
    "### Write data"
   ]
  },
  {
   "cell_type": "code",
   "execution_count": null,
   "metadata": {},
   "outputs": [],
   "source": [
    "json_body = [\n",
    "        {\n",
    "            'measurement': 'test',\n",
    "            'tags': {\n",
    "                'origin': \"notebook\"\n",
    "                },\n",
    "            'fields': None\n",
    "        }\n",
    "    ]\n",
    "print(\"Write points: {0}\".format(json_body))\n",
    "client.write_points(json_body)"
   ]
  },
  {
   "cell_type": "code",
   "execution_count": null,
   "metadata": {},
   "outputs": [],
   "source": []
  }
 ],
 "metadata": {
  "kernelspec": {
   "display_name": "Python 3 (ipykernel)",
   "language": "python",
   "name": "python3"
  },
  "language_info": {
   "codemirror_mode": {
    "name": "ipython",
    "version": 3
   },
   "file_extension": ".py",
   "mimetype": "text/x-python",
   "name": "python",
   "nbconvert_exporter": "python",
   "pygments_lexer": "ipython3",
   "version": "3.10.13"
  }
 },
 "nbformat": 4,
 "nbformat_minor": 2
}
