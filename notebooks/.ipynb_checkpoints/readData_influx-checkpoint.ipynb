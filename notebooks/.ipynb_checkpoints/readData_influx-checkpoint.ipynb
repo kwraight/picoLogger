{
 "cells": [
  {
   "cell_type": "markdown",
   "metadata": {},
   "source": [
    "## Imports"
   ]
  },
  {
   "cell_type": "code",
   "execution_count": 1,
   "metadata": {},
   "outputs": [],
   "source": [
    "import influxdb_client\n",
    "import numpy\n",
    "from influxdb_client.client.write_api import SYNCHRONOUS\n",
    "from influxdb_client.client.exceptions import InfluxDBError\n",
    "from getpass import getpass\n",
    "import sys, os\n",
    "import datetime\n",
    "import time as time_module\n",
    "import calendar\n",
    "import json\n",
    "import dateutil, pytz\n",
    "import pandas as pd\n",
    "import argparse\n",
    "\n",
    "#hello"
   ]
  },
  {
   "cell_type": "markdown",
   "metadata": {},
   "source": [
    "## Set connection"
   ]
  },
  {
   "cell_type": "code",
   "execution_count": null,
   "metadata": {},
   "outputs": [],
   "source": [
    "### remote (idiotdb)\n",
    "bucket_remote = \"\"\n",
    "org_remote = \"\"\n",
    "token_remote = \"\"\n",
    "# Store the URL of your InfluxDB instance\n",
    "url_remote=\"\""
   ]
  },
  {
   "cell_type": "markdown",
   "metadata": {},
   "source": [
    "## Check buckets"
   ]
  },
  {
   "cell_type": "code",
   "execution_count": null,
   "metadata": {},
   "outputs": [],
   "source": [
    "### set client to get access to influx\n",
    "clientV2_remote = influxdb_client.InfluxDBClient(\n",
    "   url=url_remote,\n",
    "   token=token_remote,\n",
    "   org=org_remote\n",
    ")\n",
    "### set bucket api\n",
    "buckets_api_remote = clientV2_remote.buckets_api()"
   ]
  },
  {
   "cell_type": "code",
   "execution_count": null,
   "metadata": {},
   "outputs": [],
   "source": [
    "### warning: times out outside Glasgow (use VPN)\n",
    "### list buckets (by name)\n",
    "try:\n",
    "    #print([x.name for x in buckets_api_remote.find_buckets().buckets])\n",
    "    database_list=[x.name for x in clientV2_remote.buckets_api().find_buckets().buckets]\n",
    "    print(database_list)\n",
    "except:\n",
    "    print(\"cannot get buckets\")"
   ]
  },
  {
   "cell_type": "code",
   "execution_count": null,
   "metadata": {},
   "outputs": [],
   "source": [
    "### find bucket\n",
    "buckets_api_remote.find_bucket_by_name('GLADD')"
   ]
  },
  {
   "cell_type": "markdown",
   "metadata": {},
   "source": [
    "## Query Data"
   ]
  },
  {
   "cell_type": "code",
   "execution_count": null,
   "metadata": {},
   "outputs": [],
   "source": [
    "### set query api\n",
    "query_api_remote = clientV2_remote.query_api()"
   ]
  },
  {
   "cell_type": "code",
   "execution_count": null,
   "metadata": {},
   "outputs": [],
   "source": [
    "### build query (example for GLADD influx)\n",
    "# set time period\n",
    "start_time_str=\"2023-08-01_23:00:00\"\n",
    "start_time=datetime.datetime.strptime(str(start_time_str), '%Y-%m-%d_%H:%M:%S')\n",
    "start_time.strftime('%Y-%m-%dT%H:%M:%SZ')\n",
    "offset_time=60 #s\n",
    "end_time = start_time + datetime.timedelta(seconds=offset_time)\n",
    "end_time.strftime('%Y-%m-%dT%H:%M:%SZ')\n",
    "# set filters\n",
    "filters={'_measurement':\"data\"}\n",
    "# build query str\n",
    "query_str = ' from(bucket: \\\"'+bucket_remote+'\\\") |> range(start: '+start_time.strftime('%Y-%m-%dT%H:%M:%SZ')+', stop: '+end_time.strftime('%Y-%m-%dT%H:%M:%SZ')+')'\n",
    "for k,v in filters.items():\n",
    "    query_str+=' |> filter(fn: (r) => r[\"'+k+'\"] == \"'+v+'\")'\n",
    "query_str+=' |> yield(name: \"mean\")'\n",
    "print(query_str)"
   ]
  },
  {
   "cell_type": "code",
   "execution_count": null,
   "metadata": {},
   "outputs": [],
   "source": [
    "### send query and show result (dataframe version)\n",
    "query_result_remote = query_api_remote.query_data_frame(org=org_remote, query=query_str)\n",
    "display(query_result_remote)"
   ]
  },
  {
   "cell_type": "code",
   "execution_count": null,
   "metadata": {},
   "outputs": [],
   "source": [
    "### get timestamp info for 1st element\n",
    "tmsp=query_result_remote.to_dict()['_time'][0]\n",
    "print(tmsp.to_pydatetime().strftime('%Y-%m-%d %H:%M:%S'))"
   ]
  },
  {
   "cell_type": "code",
   "execution_count": null,
   "metadata": {},
   "outputs": [],
   "source": [
    "### get temperature information\n",
    "results = []\n",
    "field=\"temperature\"\n",
    "for index, row in query_result_remote.iterrows():\n",
    "    if row['_field']==field:\n",
    "        results.append(row.to_dict())\n",
    "print(results)"
   ]
  },
  {
   "cell_type": "code",
   "execution_count": null,
   "metadata": {},
   "outputs": [],
   "source": []
  },
  {
   "cell_type": "code",
   "execution_count": null,
   "metadata": {},
   "outputs": [],
   "source": []
  }
 ],
 "metadata": {
  "kernelspec": {
   "display_name": "Python 3 (ipykernel)",
   "language": "python",
   "name": "python3"
  },
  "language_info": {
   "codemirror_mode": {
    "name": "ipython",
    "version": 3
   },
   "file_extension": ".py",
   "mimetype": "text/x-python",
   "name": "python",
   "nbconvert_exporter": "python",
   "pygments_lexer": "ipython3",
   "version": "3.9.13"
  }
 },
 "nbformat": 4,
 "nbformat_minor": 2
}
