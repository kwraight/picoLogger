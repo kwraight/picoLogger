{
 "cells": [
  {
   "cell_type": "markdown",
   "metadata": {},
   "source": [
    "## Imports\n"
   ]
  },
  {
   "cell_type": "markdown",
   "metadata": {},
   "source": [
    "In order for us to read the files, we need to import certain modules. Pandas and altair allow us to plot the data in the picologger file"
   ]
  },
  {
   "cell_type": "code",
   "execution_count": 1,
   "metadata": {},
   "outputs": [],
   "source": [
    "import os\n",
    "import sys\n",
    "import pandas as pd\n",
    "import altair as alt\n",
    "from datetime import date"
   ]
  },
  {
   "cell_type": "code",
   "execution_count": 2,
   "metadata": {},
   "outputs": [
    {
     "name": "stdout",
     "output_type": "stream",
     "text": [
      "pandas : 1.4.4\n",
      "altair : 5.0.1\n",
      "numpy : 1.21.5\n"
     ]
    }
   ],
   "source": [
    "### package versions\n",
    "packList=[\"pandas\",\"altair\",\"numpy\",\"itkdb\"]\n",
    "for p in packList:\n",
    "    if p in sys.modules.keys():\n",
    "        mod=sys.modules.get(p)\n",
    "        print(mod.__name__+\" : \"+mod.__version__)"
   ]
  },
  {
   "cell_type": "markdown",
   "metadata": {},
   "source": [
    "## Read in Data"
   ]
  },
  {
   "cell_type": "code",
   "execution_count": 12,
   "metadata": {},
   "outputs": [
    {
     "data": {
      "text/plain": [
       "['.git',\n",
       " '.gitignore',\n",
       " '.ipynb_checkpoints',\n",
       " 'exampleFile.txt',\n",
       " 'notebooks',\n",
       " 'output_file.csv',\n",
       " 'picolog_folder',\n",
       " 'README.md',\n",
       " 'requirements.txt']"
      ]
     },
     "execution_count": 12,
     "metadata": {},
     "output_type": "execute_result"
    }
   ],
   "source": [
    "### list files in above directory\n",
    "cwd = os.getcwd()\n",
    "dataDir=\"C:/Users/User/Documents/GitHub/picoLogger/\"\n",
    "os.listdir(dataDir)"
   ]
  },
  {
   "cell_type": "markdown",
   "metadata": {},
   "source": [
    "## Format raw data\n",
    "The following data takes in all of the files from the picologger folder,performs necessary calculations on them and puts them all in one csv file."
   ]
  },
  {
   "cell_type": "code",
   "execution_count": 3,
   "metadata": {},
   "outputs": [
    {
     "name": "stdout",
     "output_type": "stream",
     "text": [
      "Calculation completed. Output saved to C:/Users/User/Documents/GitHub/picoLogger/output_file.csv.\n"
     ]
    }
   ],
   "source": [
    "from datetime import datetime, date\n",
    "import os\n",
    "import pandas as pd\n",
    "\n",
    "def TimeStampConverter(inStr, inPat):\n",
    "    timeObj = None\n",
    "    if inStr == \"now\":\n",
    "        timeObj = datetime.now()\n",
    "    else:\n",
    "        timeObj = datetime.strptime(inStr, inPat)\n",
    "    return timeObj.strftime(\"%Y-%m-%dT%H:%MZ\")\n",
    "\n",
    "def perform_calculations(input_folder, output_file, timestamp_str):\n",
    "    all_data = []\n",
    "\n",
    "    # Convert the timestamp to the desired format\n",
    "    timestamp = TimeStampConverter(timestamp_str, \"%Y-%m-%d %H:%M:%S\")\n",
    "\n",
    "    for filename in os.listdir(input_folder):\n",
    "        if filename.endswith('.csv'):\n",
    "            file_path = os.path.join(input_folder, filename)\n",
    "            data = pd.read_csv(file_path)\n",
    "\n",
    "            # ... (the rest of your calculations remain unchanged) ...\n",
    "\n",
    "            # Prepare the new DataFrame with desired columns and values\n",
    "            result_data = pd.DataFrame({\n",
    "                # ... (other columns remain unchanged) ...\n",
    "                'timestamp': [timestamp]  # Wrap the timestamp value in a list\n",
    "            })\n",
    "\n",
    "            all_data.append(result_data)\n",
    "\n",
    "    if all_data:\n",
    "        final_result = pd.concat(all_data, ignore_index=True)\n",
    "        final_result.to_csv(output_file, index=False)\n",
    "        print(f\"Calculation completed. Output saved to {output_file}.\")\n",
    "\n",
    "if __name__ == \"__main__\":\n",
    "    cwd = os.getcwd()\n",
    "    input_folder = \"C:/Users/User/Documents/GitHub/picoLogger/picolog_folder/\"\n",
    "    output_file = \"C:/Users/User/Documents/GitHub/picoLogger/output_file.csv\"\n",
    "    timestamp_str = \"2023-08-08 14:30:00\"  # Replace this with your desired timestamp\n",
    "    perform_calculations(input_folder, output_file, timestamp_str)\n"
   ]
  },
  {
   "cell_type": "code",
   "execution_count": null,
   "metadata": {},
   "outputs": [],
   "source": []
  }
 ],
 "metadata": {
  "kernelspec": {
   "display_name": "Python 3 (ipykernel)",
   "language": "python",
   "name": "python3"
  },
  "language_info": {
   "codemirror_mode": {
    "name": "ipython",
    "version": 3
   },
   "file_extension": ".py",
   "mimetype": "text/x-python",
   "name": "python",
   "nbconvert_exporter": "python",
   "pygments_lexer": "ipython3",
   "version": "3.9.13"
  }
 },
 "nbformat": 4,
 "nbformat_minor": 2
}
