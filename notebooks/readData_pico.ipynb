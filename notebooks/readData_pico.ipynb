{
 "cells": [
  {
   "cell_type": "markdown",
   "metadata": {},
   "source": [
    "## Imports\n"
   ]
  },
  {
   "cell_type": "markdown",
   "metadata": {},
   "source": [
    "In order for us to read the files, we need to import certain modules. Pandas and altair allow us to plot the data in the picologger file"
   ]
  },
  {
   "cell_type": "code",
   "execution_count": 35,
   "metadata": {},
   "outputs": [],
   "source": [
    "import os\n",
    "import sys\n",
    "import pandas as pd\n",
    "import altair as alt\n",
    "from datetime import datetime,date\n",
    "import numpy as np"
   ]
  },
  {
   "cell_type": "code",
   "execution_count": 2,
   "metadata": {},
   "outputs": [
    {
     "name": "stdout",
     "output_type": "stream",
     "text": [
      "pandas : 1.3.4\n",
      "altair : 4.2.0\n",
      "numpy : 1.22.3\n",
      "itkdb : 0.4.8\n",
      "Files in parent directory: ['.DS_Store', 'picolog_folder', 'requirements.txt', 'output_file.csv', 'README.md', '.gitignore', 'HV_LV_TEST.json', '.git', 'notebooks']\n"
     ]
    }
   ],
   "source": [
    "# List installed package versions\n",
    "packList = [\"pandas\", \"altair\", \"numpy\", \"itkdb\"]\n",
    "for p in packList:\n",
    "    try:\n",
    "        mod = __import__(p)\n",
    "        print(mod.__name__ + \" : \" + mod.__version__)\n",
    "    except ImportError:\n",
    "        print(p + \" not installed\")\n",
    "\n",
    "# Get the current working directory\n",
    "thisDir = os.getcwd()\n",
    "\n",
    "# List files in the parent directory\n",
    "parentDir = os.path.abspath(os.path.join(thisDir, os.pardir))\n",
    "files_in_parent = os.listdir(parentDir)\n",
    "print(\"Files in parent directory:\", files_in_parent)"
   ]
  },
  {
   "cell_type": "markdown",
   "metadata": {},
   "source": [
    "## Read in Data"
   ]
  },
  {
   "cell_type": "code",
   "execution_count": 3,
   "metadata": {},
   "outputs": [
    {
     "data": {
      "text/plain": [
       "['.DS_Store',\n",
       " 'picolog_folder',\n",
       " 'requirements.txt',\n",
       " 'output_file.csv',\n",
       " 'README.md',\n",
       " '.gitignore',\n",
       " 'HV_LV_TEST.json',\n",
       " '.git',\n",
       " 'notebooks']"
      ]
     },
     "execution_count": 3,
     "metadata": {},
     "output_type": "execute_result"
    }
   ],
   "source": [
    "### list files in above directory\n",
    "thisDir = os.getcwd()\n",
    "os.listdir(thisDir+\"/../\")"
   ]
  },
  {
   "cell_type": "markdown",
   "metadata": {},
   "source": [
    "## Format raw data\n",
    "The following data takes in all of the files from the picologger folder,performs necessary calculations on them and puts them all in one csv file."
   ]
  },
  {
   "cell_type": "code",
   "execution_count": 4,
   "metadata": {},
   "outputs": [],
   "source": [
    "# Timestamp converter function\n",
    "def TimeStampConverter(inStr, inPat):\n",
    "    timeObj = None\n",
    "    if inStr == \"now\":\n",
    "        timeObj = datetime.now()\n",
    "    else:\n",
    "        timeObj = datetime.strptime(inStr, inPat)\n",
    "    return timeObj.strftime(\"%Y-%m-%dT%H:%M:%SZ\")"
   ]
  },
  {
   "cell_type": "code",
   "execution_count": 59,
   "metadata": {},
   "outputs": [],
   "source": [
    "### derive values from picoLogger raw data\n",
    "# Perform calculations function\n",
    "def perform_calculations(input_folder, output_file, timestamp_str):\n",
    "    all_data = []\n",
    "\n",
    "    timestamp = TimeStampConverter(timestamp_str, \"%Y-%m-%d %H:%M:%S\")\n",
    "\n",
    "    ### loop over files\n",
    "    for filename in sorted(os.listdir(input_folder)):\n",
    "\n",
    "        # skip if not csv\n",
    "        if not filename.endswith('.csv'):\n",
    "            continue\n",
    "\n",
    "        file_path = os.path.join(input_folder, filename)\n",
    "        print(\"working on:\",file_path)\n",
    "\n",
    "        ### read in data\n",
    "        data = pd.read_csv(file_path)\n",
    "\n",
    "        ### prepare derive values\n",
    "        derived ={}\n",
    "\n",
    "        # Calculate Vin Drop and GND Drop\n",
    "        derived['VIN_DROP'] = np.average(data['Vin+ Last (V)'] - data['Vin- Last (V)'])\n",
    "        derived['GND_DROP'] =  np.average(data['GND+ Last (V)'] - data['GND- Last (V)'])\n",
    "        \n",
    "        # Calculate Resistance Vin(Ohms) and Total Resistance(mOhms)\n",
    "        derived['R_VIN'] = derived['VIN_DROP'] / 10 / 5\n",
    "        derived['R_GND'] = derived['GND_DROP'] / 10 / 5\n",
    "        derived['EFFECTIVE_RESISTANCE'] = (derived['R_VIN'] + derived['R_GND']) * 1000\n",
    "        \n",
    "        # Calculate Capacitor Equivalent leakage current(nA)\n",
    "        derived['HV_LEAKAGE']=  np.average(data['Capacitor leakage test Last (V)'])\n",
    "        derived['LEAKAGE_CURRENT'] = ((derived['HV_LEAKAGE'] / 10) / (1 * 10 ** 6)) / 1000000\n",
    "        \n",
    "        # Calculate NTC value(Kohms)\n",
    "        derived['NTC_VOLTAGE']=  np.average(data['NTC Last (V)'])\n",
    "        derived['NTC_VALUE'] = 0.2 * 51 / derived['NTC_VOLTAGE']\n",
    "                    \n",
    "        # Prepare the dictionary with desired columns and values\n",
    "        file_data = {\n",
    "            'component': filename.replace('.csv',''),\n",
    "            'componentType': 'PCB',\n",
    "            'stage': 'PCB_QC',\n",
    "            'testType': 'HV_LV_TEST',\n",
    "            'institution': 'GL',\n",
    "            'runNumber': '',\n",
    "            'date': timestamp,\n",
    "            'passed': 'true',\n",
    "            'problems': 'false',\n",
    "            'property1_value': 'B.masic',\n",
    "            'property1_key': 'OPERATOR',\n",
    "            'property2_value': 'INSTRUMENT',\n",
    "            'property2_key': '',\n",
    "            'property3_value': 'ANALYSIS_VERSION',\n",
    "            'property3_key': 'picoScript: https://github.com/kwraight/picoLogger',\n",
    "            'result1_key': 'VIN_DROP',\n",
    "            'result1_value': derived['VIN_DROP'],\n",
    "            'result2_key': 'GND_DROP',\n",
    "            'result2_value': derived['GND_DROP'],\n",
    "            'result3_key': 'EFFECTIVE_RESISTANCE',\n",
    "            'result3_value': derived['EFFECTIVE_RESISTANCE'],\n",
    "            'result4_key': 'HV_LEAKAGE',\n",
    "            'result4_value': derived['HV_LEAKAGE'],\n",
    "            'result5_key': 'LEAKAGE_CURRENT',\n",
    "            'result5_value': derived['LEAKAGE_CURRENT'],\n",
    "            'result6_key': 'NTC_VOLTAGE',\n",
    "            'result6_value': derived['NTC_VOLTAGE'],\n",
    "            'result7_key': 'NTC_VALUE',\n",
    "            'result7_value': derived['NTC_VALUE']\n",
    "        }\n",
    "        ### append data\n",
    "        all_data.append(file_data)\n",
    "    \n",
    "    ### convert all data to dataframe\n",
    "    df_all=pd.DataFrame(all_data)\n",
    "    # view for sanity\n",
    "    display(df_all)\n",
    "\n",
    "    ### save data if not empty\n",
    "    if not df_all.empty:\n",
    "        df_all.to_csv(output_file, index=False)\n",
    "        print(f\"Calculation completed. Output saved to {output_file}.\")\n",
    "    else:\n",
    "        print(f\"No data found :(\")\n",
    "        return None\n"
   ]
  },
  {
   "cell_type": "code",
   "execution_count": 60,
   "metadata": {},
   "outputs": [
    {
     "name": "stdout",
     "output_type": "stream",
     "text": [
      "working on: /Users/kwraight/repositories/picoLogger/notebooks/../picolog_folder/ASN_1.csv\n",
      "working on: /Users/kwraight/repositories/picoLogger/notebooks/../picolog_folder/ASN_2.csv\n",
      "working on: /Users/kwraight/repositories/picoLogger/notebooks/../picolog_folder/ASN_3.csv\n"
     ]
    },
    {
     "data": {
      "text/html": [
       "<div>\n",
       "<style scoped>\n",
       "    .dataframe tbody tr th:only-of-type {\n",
       "        vertical-align: middle;\n",
       "    }\n",
       "\n",
       "    .dataframe tbody tr th {\n",
       "        vertical-align: top;\n",
       "    }\n",
       "\n",
       "    .dataframe thead th {\n",
       "        text-align: right;\n",
       "    }\n",
       "</style>\n",
       "<table border=\"1\" class=\"dataframe\">\n",
       "  <thead>\n",
       "    <tr style=\"text-align: right;\">\n",
       "      <th></th>\n",
       "      <th>component</th>\n",
       "      <th>componentType</th>\n",
       "      <th>stage</th>\n",
       "      <th>testType</th>\n",
       "      <th>institution</th>\n",
       "      <th>runNumber</th>\n",
       "      <th>date</th>\n",
       "      <th>passed</th>\n",
       "      <th>problems</th>\n",
       "      <th>property1_value</th>\n",
       "      <th>...</th>\n",
       "      <th>result3_key</th>\n",
       "      <th>result3_value</th>\n",
       "      <th>result4_key</th>\n",
       "      <th>result4_value</th>\n",
       "      <th>result5_key</th>\n",
       "      <th>result5_value</th>\n",
       "      <th>result6_key</th>\n",
       "      <th>result6_value</th>\n",
       "      <th>result7_key</th>\n",
       "      <th>result7_value</th>\n",
       "    </tr>\n",
       "  </thead>\n",
       "  <tbody>\n",
       "    <tr>\n",
       "      <th>0</th>\n",
       "      <td>ASN_1.csv</td>\n",
       "      <td>PCB</td>\n",
       "      <td>PCB_QC</td>\n",
       "      <td>HV_LV_TEST</td>\n",
       "      <td>GL</td>\n",
       "      <td></td>\n",
       "      <td>2023-08-08T14:30:00Z</td>\n",
       "      <td>true</td>\n",
       "      <td>false</td>\n",
       "      <td>B.masic</td>\n",
       "      <td>...</td>\n",
       "      <td>EFFECTIVE_RESISTANCE</td>\n",
       "      <td>11.546667</td>\n",
       "      <td>HV_LEAKAGE</td>\n",
       "      <td>0.097333</td>\n",
       "      <td>LEAKAGE_CURRENT</td>\n",
       "      <td>9.733333e-15</td>\n",
       "      <td>NTC_VOLTAGE</td>\n",
       "      <td>1.300000</td>\n",
       "      <td>NTC_VALUE</td>\n",
       "      <td>7.846154</td>\n",
       "    </tr>\n",
       "    <tr>\n",
       "      <th>1</th>\n",
       "      <td>ASN_2.csv</td>\n",
       "      <td>PCB</td>\n",
       "      <td>PCB_QC</td>\n",
       "      <td>HV_LV_TEST</td>\n",
       "      <td>GL</td>\n",
       "      <td></td>\n",
       "      <td>2023-08-08T14:30:00Z</td>\n",
       "      <td>true</td>\n",
       "      <td>false</td>\n",
       "      <td>B.masic</td>\n",
       "      <td>...</td>\n",
       "      <td>EFFECTIVE_RESISTANCE</td>\n",
       "      <td>11.580000</td>\n",
       "      <td>HV_LEAKAGE</td>\n",
       "      <td>0.106333</td>\n",
       "      <td>LEAKAGE_CURRENT</td>\n",
       "      <td>1.063333e-14</td>\n",
       "      <td>NTC_VOLTAGE</td>\n",
       "      <td>1.333667</td>\n",
       "      <td>NTC_VALUE</td>\n",
       "      <td>7.648088</td>\n",
       "    </tr>\n",
       "    <tr>\n",
       "      <th>2</th>\n",
       "      <td>ASN_3.csv</td>\n",
       "      <td>PCB</td>\n",
       "      <td>PCB_QC</td>\n",
       "      <td>HV_LV_TEST</td>\n",
       "      <td>GL</td>\n",
       "      <td></td>\n",
       "      <td>2023-08-08T14:30:00Z</td>\n",
       "      <td>true</td>\n",
       "      <td>false</td>\n",
       "      <td>B.masic</td>\n",
       "      <td>...</td>\n",
       "      <td>EFFECTIVE_RESISTANCE</td>\n",
       "      <td>11.620000</td>\n",
       "      <td>HV_LEAKAGE</td>\n",
       "      <td>0.104667</td>\n",
       "      <td>LEAKAGE_CURRENT</td>\n",
       "      <td>1.046667e-14</td>\n",
       "      <td>NTC_VOLTAGE</td>\n",
       "      <td>1.357667</td>\n",
       "      <td>NTC_VALUE</td>\n",
       "      <td>7.512890</td>\n",
       "    </tr>\n",
       "  </tbody>\n",
       "</table>\n",
       "<p>3 rows × 29 columns</p>\n",
       "</div>"
      ],
      "text/plain": [
       "   component componentType   stage    testType institution runNumber  \\\n",
       "0  ASN_1.csv           PCB  PCB_QC  HV_LV_TEST          GL             \n",
       "1  ASN_2.csv           PCB  PCB_QC  HV_LV_TEST          GL             \n",
       "2  ASN_3.csv           PCB  PCB_QC  HV_LV_TEST          GL             \n",
       "\n",
       "                   date passed problems property1_value  ...  \\\n",
       "0  2023-08-08T14:30:00Z   true    false         B.masic  ...   \n",
       "1  2023-08-08T14:30:00Z   true    false         B.masic  ...   \n",
       "2  2023-08-08T14:30:00Z   true    false         B.masic  ...   \n",
       "\n",
       "            result3_key result3_value result4_key result4_value  \\\n",
       "0  EFFECTIVE_RESISTANCE     11.546667  HV_LEAKAGE      0.097333   \n",
       "1  EFFECTIVE_RESISTANCE     11.580000  HV_LEAKAGE      0.106333   \n",
       "2  EFFECTIVE_RESISTANCE     11.620000  HV_LEAKAGE      0.104667   \n",
       "\n",
       "       result5_key result5_value  result6_key result6_value  result7_key  \\\n",
       "0  LEAKAGE_CURRENT  9.733333e-15  NTC_VOLTAGE      1.300000    NTC_VALUE   \n",
       "1  LEAKAGE_CURRENT  1.063333e-14  NTC_VOLTAGE      1.333667    NTC_VALUE   \n",
       "2  LEAKAGE_CURRENT  1.046667e-14  NTC_VOLTAGE      1.357667    NTC_VALUE   \n",
       "\n",
       "  result7_value  \n",
       "0      7.846154  \n",
       "1      7.648088  \n",
       "2      7.512890  \n",
       "\n",
       "[3 rows x 29 columns]"
      ]
     },
     "metadata": {},
     "output_type": "display_data"
    },
    {
     "name": "stdout",
     "output_type": "stream",
     "text": [
      "Calculation completed. Output saved to /Users/kwraight/repositories/picoLogger/notebooks/../output_file.csv.\n"
     ]
    }
   ],
   "source": [
    "### run conversion\n",
    "input_folder = thisDir+\"/../picolog_folder/\"\n",
    "output_file = thisDir+\"/../output_file.csv\"\n",
    "timestamp_str = \"2023-08-08 14:30:00\"  # Replace this with your desired timestamp\n",
    "\n",
    "perform_calculations(input_folder, output_file, timestamp_str)\n",
    "\n"
   ]
  },
  {
   "cell_type": "code",
   "execution_count": null,
   "metadata": {},
   "outputs": [],
   "source": []
  }
 ],
 "metadata": {
  "kernelspec": {
   "display_name": "Python 3 (ipykernel)",
   "language": "python",
   "name": "python3"
  },
  "language_info": {
   "codemirror_mode": {
    "name": "ipython",
    "version": 3
   },
   "file_extension": ".py",
   "mimetype": "text/x-python",
   "name": "python",
   "nbconvert_exporter": "python",
   "pygments_lexer": "ipython3",
   "version": "3.10.4"
  }
 },
 "nbformat": 4,
 "nbformat_minor": 2
}
