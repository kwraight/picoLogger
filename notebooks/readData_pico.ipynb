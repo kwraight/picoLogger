{
 "cells": [
  {
   "cell_type": "markdown",
   "metadata": {},
   "source": [
    "## Imports\n"
   ]
  },
  {
   "cell_type": "markdown",
   "metadata": {},
   "source": [
    "In order for us to read the files, we need to import certain modules. Pandas and altair allow us to plot the data in the picologger file"
   ]
  },
  {
   "cell_type": "code",
   "execution_count": null,
   "metadata": {},
   "outputs": [],
   "source": [
    "import os\n",
    "import sys\n",
    "import pandas as pd\n",
    "import altair as alt\n",
    "from datetime import datetime,date\n",
    "import numpy as np"
   ]
  },
  {
   "cell_type": "code",
   "execution_count": null,
   "metadata": {},
   "outputs": [],
   "source": [
    "# List installed package versions\n",
    "packList = [\"pandas\", \"altair\", \"numpy\", \"itkdb\"]\n",
    "for p in packList:\n",
    "    try:\n",
    "        mod = __import__(p)\n",
    "        print(mod.__name__ + \" : \" + mod.__version__)\n",
    "    except ImportError:\n",
    "        print(p + \" not installed\")\n",
    "\n",
    "# Get the current working directory\n",
    "thisDir = os.getcwd()\n",
    "\n",
    "# List files in the parent directory\n",
    "parentDir = os.path.abspath(os.path.join(thisDir, os.pardir))\n",
    "files_in_parent = os.listdir(parentDir)\n",
    "print(\"Files in parent directory:\", files_in_parent)"
   ]
  },
  {
   "cell_type": "markdown",
   "metadata": {},
   "source": [
    "## User Settings"
   ]
  },
  {
   "cell_type": "code",
   "execution_count": null,
   "metadata": {},
   "outputs": [],
   "source": [
    "input_folder = thisDir+\"/../picolog_folder/\"\n",
    "output_file = thisDir+\"/../output_file.csv\"\n",
    "timestamp_str = \"2023-08-08 14:30:00\"  # Replace this with your desired timestamp (keep format!)"
   ]
  },
  {
   "cell_type": "markdown",
   "metadata": {},
   "source": [
    "## Raw data conversion code\n",
    "The following data takes in all of the files from the picologger folder,performs necessary calculations on them and puts them all in one csv file."
   ]
  },
  {
   "cell_type": "code",
   "execution_count": null,
   "metadata": {},
   "outputs": [],
   "source": [
    "# Timestamp converter function\n",
    "def TimeStampConverter(inStr, inPat):\n",
    "    timeObj = None\n",
    "    if inStr == \"now\":\n",
    "        timeObj = datetime.now()\n",
    "    else:\n",
    "        timeObj = datetime.strptime(inStr, inPat)\n",
    "    return timeObj.strftime(\"%Y-%m-%dT%H:%M:%SZ\")"
   ]
  },
  {
   "cell_type": "code",
   "execution_count": null,
   "metadata": {},
   "outputs": [],
   "source": [
    "### derive values from picoLogger raw data\n",
    "# Perform calculations function\n",
    "def perform_calculations(input_folder, output_file, timestamp_str):\n",
    "    all_data = []\n",
    "\n",
    "    timestamp = TimeStampConverter(timestamp_str, \"%Y-%m-%d %H:%M:%S\")\n",
    "\n",
    "    ### loop over files\n",
    "    for filename in sorted(os.listdir(input_folder)):\n",
    "\n",
    "        # skip if not csv\n",
    "        if not filename.endswith('.csv'):\n",
    "            continue\n",
    "\n",
    "        file_path = os.path.join(input_folder, filename)\n",
    "        print(\"working on:\",file_path)\n",
    "\n",
    "        ### read in data\n",
    "        data = pd.read_csv(file_path)\n",
    "\n",
    "        ### prepare derive values\n",
    "        derived ={}\n",
    "\n",
    "        # Calculate Vin Drop and GND Drop\n",
    "        derived['VIN_DROP'] = np.average(data['Vin+ Last (V)'] - data['Vin- Last (V)'])\n",
    "        derived['GND_DROP'] =  np.average(data['GND+ Last (V)'] - data['GND- Last (V)'])\n",
    "        \n",
    "        # Calculate Resistance Vin(Ohms) and Total Resistance(mOhms)\n",
    "        derived['R_VIN'] = derived['VIN_DROP'] / 10 / 5\n",
    "        derived['R_GND'] = derived['GND_DROP'] / 10 / 5\n",
    "        derived['EFFECTIVE_RESISTANCE'] = (derived['R_VIN'] + derived['R_GND']) * 1000\n",
    "        \n",
    "        # Calculate Capacitor Equivalent leakage current(nA)\n",
    "        derived['HV_LEAKAGE']=  np.average(data['Capacitor leakage test Last (V)'])\n",
    "        derived['LEAKAGE_CURRENT'] = ((derived['HV_LEAKAGE'] / 10) / (1 * 10 ** 6)) / 1000000\n",
    "        \n",
    "        # Calculate NTC value(Kohms)\n",
    "        derived['NTC_VOLTAGE']=  np.average(data['NTC Last (V)'])\n",
    "        derived['NTC_VALUE'] = 0.2 * 51 / derived['NTC_VOLTAGE']\n",
    "                    \n",
    "        # Prepare the dictionary with desired columns and values\n",
    "        file_data = {\n",
    "            'component': filename.replace('.csv',''),\n",
    "            'componentType': 'PCB',\n",
    "            'stage': 'PCB_QC',\n",
    "            'testType': 'HV_LV_TEST',\n",
    "            'institution': 'GL',\n",
    "            'runNumber': '',\n",
    "            'date': timestamp,\n",
    "            'passed': 'true',\n",
    "            'problems': 'false',\n",
    "            'property1_value': 'B.masic',\n",
    "            'property1_key': 'OPERATOR',\n",
    "            'property2_value': 'INSTRUMENT',\n",
    "            'property2_key': '',\n",
    "            'property3_value': 'ANALYSIS_VERSION',\n",
    "            'property3_key': 'picoScript: https://github.com/kwraight/picoLogger',\n",
    "            'result1_key': 'VIN_DROP',\n",
    "            'result1_value': derived['VIN_DROP'],\n",
    "            'result2_key': 'GND_DROP',\n",
    "            'result2_value': derived['GND_DROP'],\n",
    "            'result3_key': 'EFFECTIVE_RESISTANCE',\n",
    "            'result3_value': derived['EFFECTIVE_RESISTANCE'],\n",
    "            'result4_key': 'HV_LEAKAGE',\n",
    "            'result4_value': derived['HV_LEAKAGE'],\n",
    "            'result5_key': 'LEAKAGE_CURRENT',\n",
    "            'result5_value': derived['LEAKAGE_CURRENT'],\n",
    "            'result6_key': 'NTC_VOLTAGE',\n",
    "            'result6_value': derived['NTC_VOLTAGE'],\n",
    "            'result7_key': 'NTC_VALUE',\n",
    "            'result7_value': derived['NTC_VALUE']\n",
    "        }\n",
    "        ### append data\n",
    "        all_data.append(file_data)\n",
    "    \n",
    "    ### convert all data to dataframe\n",
    "    df_all=pd.DataFrame(all_data)\n",
    "    # view for sanity\n",
    "    display(df_all)\n",
    "\n",
    "    ### save data if not empty\n",
    "    if not df_all.empty:\n",
    "        df_all.to_csv(output_file, index=False)\n",
    "        print(f\"Calculation completed. Output saved to {output_file}.\")\n",
    "    else:\n",
    "        print(f\"No data found :(\")\n",
    "        return None\n"
   ]
  },
  {
   "cell_type": "markdown",
   "metadata": {},
   "source": [
    "## Run Conversion"
   ]
  },
  {
   "cell_type": "code",
   "execution_count": null,
   "metadata": {},
   "outputs": [],
   "source": [
    "### run conversion\n",
    "perform_calculations(input_folder, output_file, timestamp_str)\n"
   ]
  },
  {
   "cell_type": "code",
   "execution_count": null,
   "metadata": {},
   "outputs": [],
   "source": []
  }
 ],
 "metadata": {
  "kernelspec": {
   "display_name": "Python 3 (ipykernel)",
   "language": "python",
   "name": "python3"
  },
  "language_info": {
   "codemirror_mode": {
    "name": "ipython",
    "version": 3
   },
   "file_extension": ".py",
   "mimetype": "text/x-python",
   "name": "python",
   "nbconvert_exporter": "python",
   "pygments_lexer": "ipython3",
   "version": "3.10.4"
  }
 },
 "nbformat": 4,
 "nbformat_minor": 2
}
