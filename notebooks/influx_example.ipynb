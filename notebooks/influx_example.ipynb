{
 "cells": [
  {
   "cell_type": "markdown",
   "metadata": {},
   "source": [
    "## Database Backend - Influx"
   ]
  },
  {
   "cell_type": "markdown",
   "metadata": {},
   "source": [
    "### Imports"
   ]
  },
  {
   "cell_type": "code",
   "execution_count": null,
   "metadata": {},
   "outputs": [],
   "source": [
    "import influxdb_client\n",
    "from influxdb_client.client.write_api import SYNCHRONOUS\n",
    "from influxdb_client.client.exceptions import InfluxDBError\n",
    "import sys, os\n",
    "import pandas as pd\n",
    "from datetime import date, datetime, timedelta\n",
    "import pytz\n",
    "import altair as alt\n"
   ]
  },
  {
   "cell_type": "markdown",
   "metadata": {},
   "source": [
    "## Set influx connection"
   ]
  },
  {
   "cell_type": "code",
   "execution_count": null,
   "metadata": {},
   "outputs": [],
   "source": [
    "# List installed package versions\n",
    "packList = [\"pandas\", \"altair\", \"numpy\", \"influxdb_client\"]\n",
    "for p in packList:\n",
    "    try:\n",
    "        mod = __import__(p)\n",
    "        print(mod.__name__ + \" : \" + mod.__version__)\n",
    "    except ImportError:\n",
    "        print(p + \" not installed\")\n",
    "\n",
    "# Get the current working directory\n",
    "thisDir = os.getcwd()\n",
    "\n",
    "# List files in the parent directory\n",
    "parentDir = os.path.abspath(os.path.join(thisDir, os.pardir))\n",
    "files_in_parent = os.listdir(parentDir)\n",
    "print(\"Files in parent directory:\", files_in_parent)"
   ]
  },
  {
   "cell_type": "markdown",
   "metadata": {},
   "source": [
    "## Read in credentials\n",
    "\n",
    "Sets a dictionay with:\n",
    "- 'bucket': \"BUCKET_NAME\",\n",
    "- 'org': \"ORGANISATION_NAME\",\n",
    "- 'token': \"TOKEN\",\n",
    "- 'url': \"IP:PORT\"\n"
   ]
  },
  {
   "cell_type": "code",
   "execution_count": null,
   "metadata": {},
   "outputs": [],
   "source": [
    "### set up Kenny's credentials (ignore if user!=Kenny)\n",
    "credDir=os.getcwd()\n",
    "if os.path.isdir(credDir):\n",
    "    print(\"directory found:\",credDir)\n",
    "    sys.path.insert(1, credDir)\n",
    "    import connectionDetails\n",
    "    credDict=connectionDetails.GetInfluxCredentials()\n",
    "    print(credDict)\n",
    "    print(\"done.\")\n",
    "else:\n",
    "    print(\"no directory found:\",credDir)"
   ]
  },
  {
   "cell_type": "markdown",
   "metadata": {},
   "source": [
    "## Query Influx"
   ]
  },
  {
   "cell_type": "markdown",
   "metadata": {},
   "source": [
    "### get API client"
   ]
  },
  {
   "cell_type": "code",
   "execution_count": null,
   "metadata": {},
   "outputs": [],
   "source": [
    "### set client to get access to influx\n",
    "clientV2_remote = influxdb_client.InfluxDBClient(\n",
    "   url=credDict['url'],\n",
    "   token=credDict['token'],\n",
    "   org=credDict['org']\n",
    ")"
   ]
  },
  {
   "cell_type": "markdown",
   "metadata": {},
   "source": [
    "### check buckets"
   ]
  },
  {
   "cell_type": "code",
   "execution_count": null,
   "metadata": {},
   "outputs": [],
   "source": [
    "### set bucket api\n",
    "buckets_api_remote = clientV2_remote.buckets_api()"
   ]
  },
  {
   "cell_type": "code",
   "execution_count": null,
   "metadata": {},
   "outputs": [],
   "source": [
    "### Access local or VPN connected ports\n",
    "### list buckets (by name)\n",
    "try:\n",
    "    #print([x.name for x in buckets_api_remote.find_buckets().buckets])\n",
    "    database_list=[x.name for x in clientV2_remote.buckets_api().find_buckets().buckets]\n",
    "    print(database_list)\n",
    "except:\n",
    "    print(\"cannot get buckets\")"
   ]
  },
  {
   "cell_type": "markdown",
   "metadata": {},
   "source": [
    "### Query data\n",
    "\n",
    "Example query from influxdb GUI (replace all-caps):\n",
    "<code>\n",
    "from(bucket: BUCKET_NAME)\n",
    "  |> range(start: v.timeRangeStart, stop: v.timeRangeStop)\n",
    "  |> filter(fn: (r) => r[\"_measurement\"] == DATA_NAME)\n",
    "  |> aggregateWindow(every: 1m, fn: mean, createEmpty: false)\n",
    "  |> yield(name: \"mean\")\n",
    "</code>"
   ]
  },
  {
   "cell_type": "code",
   "execution_count": null,
   "metadata": {},
   "outputs": [],
   "source": [
    "### set query api\n",
    "query_api_remote = clientV2_remote.query_api()"
   ]
  },
  {
   "cell_type": "code",
   "execution_count": null,
   "metadata": {},
   "outputs": [],
   "source": [
    "### build query string\n",
    "bucketName=\"REMS\"\n",
    "start_time_str=\"2023-10-01_13:30:00\" # format: '%Y-%m-%d_%H:%M:%S'\n",
    "# end_time_str=\"2023-10-02_13:30:00\" # format: '%Y-%m-%d_%H:%M:%S'\n",
    "# set time period, e.g. start time + 1 hr\n",
    "local = pytz.timezone(\"Europe/London\")\n",
    "start_time=datetime.strptime(str(start_time_str), '%Y-%m-%d_%H:%M:%S')\n",
    "start_local = local.localize(start_time, is_dst=None)\n",
    "start_utc = start_local.astimezone(pytz.utc)\n",
    "offset_time=3600 #s\n",
    "end_time=start_time + timedelta(seconds=offset_time)\n",
    "end_local = local.localize(end_time, is_dst=None)\n",
    "end_utc = end_local.astimezone(pytz.utc)\n",
    "# set filters\n",
    "filters={'_measurement':\"data\",\n",
    "         '_field':\"humidity\",\n",
    "         'location':\"lab_gladd1_env\",\n",
    "         'sensor':\"SHT85\"\n",
    "         }\n",
    "# build string\n",
    "build_query_str = ' from(bucket: \\\"'+bucketName+'\\\") |> range(start: '+start_utc.strftime('%Y-%m-%dT%H:%M:%SZ')+', stop: '+end_utc.strftime('%Y-%m-%dT%H:%M:%SZ')+')'\n",
    "for k,v in filters.items():\n",
    "    build_query_str+=' |> filter(fn: (r) => r[\"'+k+'\"] == \"'+v+'\")'\n",
    "build_query_str+=' |> yield(name: \"mean\")'\n",
    "print(build_query_str)"
   ]
  },
  {
   "cell_type": "code",
   "execution_count": null,
   "metadata": {},
   "outputs": [],
   "source": [
    "### get data (into dataframe)\n",
    "build_result = query_api_remote.query_data_frame(org=credDict['org'], query=build_query_str)\n",
    "display(build_result)"
   ]
  },
  {
   "cell_type": "code",
   "execution_count": null,
   "metadata": {},
   "outputs": [],
   "source": [
    "### copy grafana query\n",
    "grafana_copy_str='from(bucket: \"REMS\") \\\n",
    "  |> range(start: 2023-10-01T21:52:26.4Z, stop: 2023-10-02T21:52:26.4Z) \\\n",
    "  |> filter(fn: (r) => r[\"_measurement\"] == \"data\") \\\n",
    "  |> filter(fn: (r) => r[\"_field\"] == \"humidity\") \\\n",
    "  |> filter(fn: (r) => r[\"location\"] == \"lab_gladd1_env\") \\\n",
    "  |> filter(fn: (r) => r[\"sensor\"] == \"SHT85\") \\\n",
    "  |> filter(fn: (r) => r._value > -900 ) \\\n",
    "  |> aggregateWindow(every: 1m0s, fn: mean, createEmpty: false) \\\n",
    "  |> map(fn: (r) => ({  r with location: \"Humidity\" })) \\\n",
    "  |> yield(name: \"mean\")'\n",
    "print(grafana_copy_str)"
   ]
  },
  {
   "cell_type": "code",
   "execution_count": null,
   "metadata": {},
   "outputs": [],
   "source": [
    "### get data (into dataframe)\n",
    "copy_result = query_api_remote.query_data_frame(org=credDict['org'], query=grafana_copy_str)\n",
    "display(copy_result)"
   ]
  },
  {
   "cell_type": "markdown",
   "metadata": {},
   "source": [
    "## Visualisation\n",
    "Using altair"
   ]
  },
  {
   "cell_type": "code",
   "execution_count": null,
   "metadata": {},
   "outputs": [],
   "source": [
    "### plot data from build query\n",
    "alt.Chart(build_result).mark_line(point=True).encode(\n",
    "    x=alt.X('_time'),\n",
    "    y=alt.Y('_value'),\n",
    "    tooltip=['_time','_value']\n",
    ").properties(title=\"results of custom made query\")\n"
   ]
  },
  {
   "cell_type": "code",
   "execution_count": null,
   "metadata": {},
   "outputs": [],
   "source": [
    "### plot data from grafana query\n",
    "alt.Chart(copy_result).mark_line(point=True).encode(\n",
    "    x=alt.X('_time'),\n",
    "    y=alt.Y('_value'),\n",
    "    tooltip=['_time','_value']\n",
    ").properties(title=\"results of grafana-like query\")\n"
   ]
  },
  {
   "cell_type": "code",
   "execution_count": null,
   "metadata": {},
   "outputs": [],
   "source": []
  }
 ],
 "metadata": {
  "kernelspec": {
   "display_name": "Python 3 (ipykernel)",
   "language": "python",
   "name": "python3"
  },
  "language_info": {
   "codemirror_mode": {
    "name": "ipython",
    "version": 3
   },
   "file_extension": ".py",
   "mimetype": "text/x-python",
   "name": "python",
   "nbconvert_exporter": "python",
   "pygments_lexer": "ipython3",
   "version": "3.10.4"
  }
 },
 "nbformat": 4,
 "nbformat_minor": 2
}
