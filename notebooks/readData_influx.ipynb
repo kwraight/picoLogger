{
 "cells": [
  {
   "cell_type": "markdown",
   "metadata": {},
   "source": [
    "## Imports"
   ]
  },
  {
   "cell_type": "code",
   "execution_count": 1,
   "metadata": {},
   "outputs": [],
   "source": [
    "import influxdb_client\n",
    "import numpy\n",
    "from influxdb_client.client.write_api import SYNCHRONOUS\n",
    "from influxdb_client.client.exceptions import InfluxDBError\n",
    "from getpass import getpass\n",
    "import sys, os\n",
    "import datetime\n",
    "import time as time_module\n",
    "import calendar\n",
    "import json\n",
    "import dateutil, pytz\n",
    "import pandas as pd\n",
    "import argparse\n",
    "\n",
    "#hello"
   ]
  },
  {
   "cell_type": "markdown",
   "metadata": {},
   "source": [
    "## Set connection"
   ]
  },
  {
   "cell_type": "code",
   "execution_count": null,
   "metadata": {},
   "outputs": [],
   "source": [
    "### remote (idiotdb)\n",
    "bucket_remote = \"\"\n",
    "org_remote = \"\"\n",
    "token_remote = \"\"\n",
    "# Store the URL of your InfluxDB instance\n",
    "url_remote=\"\""
   ]
  },
  {
   "cell_type": "markdown",
   "metadata": {},
   "source": [
    "## Check buckets"
   ]
  },
  {
   "cell_type": "markdown",
   "metadata": {},
   "source": [
    "## Query Data"
   ]
  },
  {
   "cell_type": "code",
   "execution_count": 1,
   "metadata": {},
   "outputs": [
    {
     "ename": "FileNotFoundError",
     "evalue": "[WinError 3] The system cannot find the path specified: 'C:/Users/User/Documents/GitHub/picoLogger/Glasgow Internship/picolog_folder'",
     "output_type": "error",
     "traceback": [
      "\u001b[1;31m---------------------------------------------------------------------------\u001b[0m",
      "\u001b[1;31mFileNotFoundError\u001b[0m                         Traceback (most recent call last)",
      "\u001b[1;32m~\\AppData\\Local\\Temp\\ipykernel_11124\\98468576.py\u001b[0m in \u001b[0;36m<module>\u001b[1;34m\u001b[0m\n\u001b[0;32m    121\u001b[0m     \u001b[0mtoken_remote\u001b[0m \u001b[1;33m=\u001b[0m \u001b[1;34m\"EO3dz3f5Bee1T45loRbpyk0SmHAkjOyB0qgKsv2Zc_NPW1_IBwy-odhRgVpPxBftVre63C4eS7V55EhCWbKqHQ==\"\u001b[0m\u001b[1;33m\u001b[0m\u001b[1;33m\u001b[0m\u001b[0m\n\u001b[0;32m    122\u001b[0m     \u001b[0murl_remote\u001b[0m \u001b[1;33m=\u001b[0m \u001b[1;34m\"http://194.36.1.20:8086\"\u001b[0m\u001b[1;33m\u001b[0m\u001b[1;33m\u001b[0m\u001b[0m\n\u001b[1;32m--> 123\u001b[1;33m     \u001b[0mperform_calculations\u001b[0m\u001b[1;33m(\u001b[0m\u001b[0minput_folder\u001b[0m\u001b[1;33m,\u001b[0m \u001b[0moutput_file\u001b[0m\u001b[1;33m,\u001b[0m \u001b[0mbucket_remote\u001b[0m\u001b[1;33m,\u001b[0m \u001b[0murl_remote\u001b[0m\u001b[1;33m,\u001b[0m \u001b[0mtoken_remote\u001b[0m\u001b[1;33m,\u001b[0m \u001b[0morg_remote\u001b[0m\u001b[1;33m)\u001b[0m\u001b[1;33m\u001b[0m\u001b[1;33m\u001b[0m\u001b[0m\n\u001b[0m",
      "\u001b[1;32m~\\AppData\\Local\\Temp\\ipykernel_11124\\98468576.py\u001b[0m in \u001b[0;36mperform_calculations\u001b[1;34m(input_folder, output_file, bucket_remote, url_remote, token_remote, org_remote)\u001b[0m\n\u001b[0;32m     43\u001b[0m     \u001b[0mall_data\u001b[0m \u001b[1;33m=\u001b[0m \u001b[1;33m[\u001b[0m\u001b[1;33m]\u001b[0m\u001b[1;33m\u001b[0m\u001b[1;33m\u001b[0m\u001b[0m\n\u001b[0;32m     44\u001b[0m \u001b[1;33m\u001b[0m\u001b[0m\n\u001b[1;32m---> 45\u001b[1;33m     \u001b[1;32mfor\u001b[0m \u001b[0mfilename\u001b[0m \u001b[1;32min\u001b[0m \u001b[0mos\u001b[0m\u001b[1;33m.\u001b[0m\u001b[0mlistdir\u001b[0m\u001b[1;33m(\u001b[0m\u001b[0minput_folder\u001b[0m\u001b[1;33m)\u001b[0m\u001b[1;33m:\u001b[0m\u001b[1;33m\u001b[0m\u001b[1;33m\u001b[0m\u001b[0m\n\u001b[0m\u001b[0;32m     46\u001b[0m         \u001b[1;32mif\u001b[0m \u001b[0mfilename\u001b[0m\u001b[1;33m.\u001b[0m\u001b[0mendswith\u001b[0m\u001b[1;33m(\u001b[0m\u001b[1;34m'.csv'\u001b[0m\u001b[1;33m)\u001b[0m\u001b[1;33m:\u001b[0m\u001b[1;33m\u001b[0m\u001b[1;33m\u001b[0m\u001b[0m\n\u001b[0;32m     47\u001b[0m             \u001b[0mfile_path\u001b[0m \u001b[1;33m=\u001b[0m \u001b[0mos\u001b[0m\u001b[1;33m.\u001b[0m\u001b[0mpath\u001b[0m\u001b[1;33m.\u001b[0m\u001b[0mjoin\u001b[0m\u001b[1;33m(\u001b[0m\u001b[0minput_folder\u001b[0m\u001b[1;33m,\u001b[0m \u001b[0mfilename\u001b[0m\u001b[1;33m)\u001b[0m\u001b[1;33m\u001b[0m\u001b[1;33m\u001b[0m\u001b[0m\n",
      "\u001b[1;31mFileNotFoundError\u001b[0m: [WinError 3] The system cannot find the path specified: 'C:/Users/User/Documents/GitHub/picoLogger/Glasgow Internship/picolog_folder'"
     ]
    }
   ],
   "source": [
    "import os\n",
    "import pandas as pd\n",
    "from datetime import date\n",
    "import datetime\n",
    "import influxdb_client\n",
    "\n",
    "def fetch_temperature_and_humidity(start_time_str, offset_time, bucket_remote, url_remote, token_remote, org_remote):\n",
    "    clientV2_remote = influxdb_client.InfluxDBClient(url=url_remote, token=token_remote, org=org_remote)\n",
    "    query_api_remote = clientV2_remote.query_api()\n",
    "\n",
    "    start_time = datetime.datetime.strptime(str(start_time_str), '%Y-%m-%d_%H:%M:%S')\n",
    "    end_time = start_time + datetime.timedelta(seconds=offset_time)\n",
    "\n",
    "    filters = {'_measurement': \"data\"}\n",
    "    query_str = f'from(bucket: \\\"{bucket_remote}\\\") |> range(start: {start_time.strftime(\"%Y-%m-%dT%H:%M:%SZ\")}, stop: {end_time.strftime(\"%Y-%m-%dT%H:%M:%SZ\")})'\n",
    "    for k, v in filters.items():\n",
    "        query_str += f' |> filter(fn: (r) => r[\"{k}\"] == \"{v}\")'\n",
    "    query_str += ' |> yield(name: \"mean\")'\n",
    "\n",
    "    query_result_remote = query_api_remote.query_data_frame(org=org_remote, query=query_str)\n",
    "\n",
    "    temperature_results = []\n",
    "    humidity_results = []\n",
    "    for index, row in query_result_remote.iterrows():\n",
    "        if row['_field'] == 'temperature':\n",
    "            temperature_results.append(row.to_dict())\n",
    "        elif row['_field'] == 'humidity':\n",
    "            humidity_results.append(row.to_dict())\n",
    "\n",
    "    if len(temperature_results) > 0:\n",
    "        temperature = temperature_results[0]['_value']\n",
    "    else:\n",
    "        temperature = None\n",
    "\n",
    "    if len(humidity_results) > 0:\n",
    "        humidity = humidity_results[0]['_value']\n",
    "    else:\n",
    "        humidity = None\n",
    "\n",
    "    return temperature, humidity\n",
    "\n",
    "def perform_calculations(input_folder, output_file, bucket_remote, url_remote, token_remote, org_remote):\n",
    "    all_data = []\n",
    "    \n",
    "    for filename in os.listdir(input_folder):\n",
    "        if filename.endswith('.csv'):\n",
    "            file_path = os.path.join(input_folder, filename)\n",
    "            data = pd.read_csv(file_path)\n",
    "            \n",
    "            # Calculate Vin Drop and GND Drop\n",
    "            data['Vin Drop (V)'] = data['Vin+ Last (V)'] - data['Vin- Last (V)']\n",
    "            data['GND Drop (V)'] = data['GND+ Last (V)'] - data['GND- Last (V)']\n",
    "            \n",
    "            # Calculate Resistance Vin(Ohms) and Total Resistance(mOhms)\n",
    "            data['Resistance Vin(Ohms)'] = data['Vin Drop (V)'] / 10 / 5\n",
    "            data['Resistance GND(Ohms)'] = data['GND Drop (V)'] / 10 / 5\n",
    "            data['Total Resistance(mOhms)'] = (data['Resistance Vin(Ohms)'] + data['Resistance GND(Ohms)']) * 1000\n",
    "            \n",
    "            # Calculate Capacitor Equivalent leakage current(nA)\n",
    "            data['Capacitor Equivalent leakage current(nA)'] = ((data['Capacitor leakage test Last (V)'] / 10) / (1 * 10 ** 6)) / 1000000\n",
    "            \n",
    "            # Calculate NTC value(Kohms)\n",
    "            data['NTC value (Kohms)'] = 0.2 * 51 / data['NTC Last (V)']\n",
    "            \n",
    "            # Fetch temperature and humidity\n",
    "            start_time_str = \"2023-08-01_23:00:00\"\n",
    "            offset_time = 60  # seconds\n",
    "            temperature, humidity = fetch_temperature_and_humidity(start_time_str, offset_time, bucket_remote, url_remote, token_remote, org_remote)\n",
    "            \n",
    "            # Prepare the new DataFrame with desired columns and values\n",
    "            result_data = pd.DataFrame({\n",
    "                'component': filename,\n",
    "                'componentType': 'PCB',\n",
    "                'stage': 'PCB_QC',\n",
    "                'testType': 'HV_LV_TEST',\n",
    "                'institution': 'Glasgow',\n",
    "                'runNumber': data.shape[0],\n",
    "                'date': date.today().strftime('%Y-%m-%d'),\n",
    "                'passed': 'YES',\n",
    "                'problems': 'False',\n",
    "                'property1_value': 'B.masic',\n",
    "                'property1_key': 'OPERATOR',\n",
    "                'property2_value': 'INSTRUMENT',\n",
    "                'property2_key': '',\n",
    "                'property3_value': 'ANALYSIS_VERSION',\n",
    "                'property3_key': '',\n",
    "                'result1_key': 'VIN_DROP',\n",
    "                'result1_value': data['Vin Drop (V)'],\n",
    "                'result2_key': 'GND_DROP',\n",
    "                'result2_value': data['GND Drop (V)'],\n",
    "                'result3_key': 'EFFECTIVE RESISTANCE',\n",
    "                'result3_value': data['Total Resistance(mOhms)'],\n",
    "                'result4_key': 'HV_LEAKAGE',\n",
    "                'result4_value': data['Capacitor leakage test Last (V)'],\n",
    "                'result5_key': 'LEAKAGE_CURRENT (nA)',\n",
    "                'result5_value': data['Capacitor Equivalent leakage current(nA)'],\n",
    "                'result6_key': 'NTC_VOLTAGE',\n",
    "                'result6_value': data['NTC Last (V)'],\n",
    "                'result7_key': 'NTC_VALUE',\n",
    "                'result7_value': data['NTC value (Kohms)'],\n",
    "                'result8_key': 'TERMPERATURE',\n",
    "                'result8_value': temperature,\n",
    "                'result9_key': 'HUMIDITY',\n",
    "                'result9_value': humidity\n",
    "            })\n",
    "            \n",
    "            all_data.append(result_data)\n",
    "    \n",
    "    if all_data:\n",
    "        final_result = pd.concat(all_data, ignore_index=True)\n",
    "        final_result.to_csv(output_file, index=False)\n",
    "        print(f\"Calculation completed. Output saved to {output_file}.\")\n",
    "\n",
    "if __name__ == \"__main__\":\n",
    "    # Update the file locations here\n",
    "    input_folder = \"C:/Users/User/Documents/GitHub/picoLogger/picolog_folder\"\n",
    "    output_file = \"C:/Users/User/Documents/GitHub/picoLogger/Glasgow Internship/output_file.csv\"\n",
    "    \n",
    "    bucket_remote = \"GLADD\"\n",
    "    org_remote = \"PPE\"\n",
    "    token_remote = \"EO3dz3f5Bee1T45loRbpyk0SmHAkjOyB0qgKsv2Zc_NPW1_IBwy-odhRgVpPxBftVre63C4eS7V55EhCWbKqHQ==\"\n",
    "    url_remote = \"http://194.36.1.20:8086\"\n",
    "    perform_calculations(input_folder, output_file, bucket_remote, url_remote, token_remote, org_remote)\n"
   ]
  },
  {
   "cell_type": "code",
   "execution_count": null,
   "metadata": {},
   "outputs": [],
   "source": []
  }
 ],
 "metadata": {
  "kernelspec": {
   "display_name": "Python 3 (ipykernel)",
   "language": "python",
   "name": "python3"
  },
  "language_info": {
   "codemirror_mode": {
    "name": "ipython",
    "version": 3
   },
   "file_extension": ".py",
   "mimetype": "text/x-python",
   "name": "python",
   "nbconvert_exporter": "python",
   "pygments_lexer": "ipython3",
   "version": "3.9.13"
  }
 },
 "nbformat": 4,
 "nbformat_minor": 2
}
